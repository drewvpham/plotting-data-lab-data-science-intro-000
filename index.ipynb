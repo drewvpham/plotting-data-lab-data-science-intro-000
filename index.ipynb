{
 "cells": [
  {
   "cell_type": "markdown",
   "metadata": {},
   "source": [
    "# Plotting Data Lab"
   ]
  },
  {
   "cell_type": "markdown",
   "metadata": {},
   "source": [
    "### Learning Objectives"
   ]
  },
  {
   "cell_type": "markdown",
   "metadata": {},
   "source": [
    "* Understand the components of a point in a graph, an $x$ value, and a $y$ value \n",
    "* Understand how to plot a point on a graph, from a point's $x$ and $y$ value\n",
    "* Get a sense of how to use a graphing library, like Plotly, to answer questions about our data"
   ]
  },
  {
   "cell_type": "markdown",
   "metadata": {},
   "source": [
    "### Working again with our travel data"
   ]
  },
  {
   "cell_type": "markdown",
   "metadata": {},
   "source": [
    "Let's again get our travel data from our excel spreadsheet.  If we do not already have `pandas` and `xldr` for retrieving data from excel, we should install it now."
   ]
  },
  {
   "cell_type": "code",
   "execution_count": 1,
   "metadata": {},
   "outputs": [
    {
     "name": "stdout",
     "output_type": "stream",
     "text": [
<<<<<<< HEAD
      "Requirement already satisfied: pandas in /Users/dpham/Desktop/env/lib/python2.7/site-packages (0.23.4)\n",
      "Requirement already satisfied: numpy>=1.9.0 in /Users/dpham/Desktop/env/lib/python2.7/site-packages (from pandas) (1.15.0)\n",
      "Requirement already satisfied: python-dateutil>=2.5.0 in /Users/dpham/Desktop/env/lib/python2.7/site-packages (from pandas) (2.7.3)\n",
      "Requirement already satisfied: pytz>=2011k in /Users/dpham/Desktop/env/lib/python2.7/site-packages (from pandas) (2018.5)\n",
      "Requirement already satisfied: six>=1.5 in /Users/dpham/Desktop/env/lib/python2.7/site-packages (from python-dateutil>=2.5.0->pandas) (1.11.0)\n",
      "Requirement already satisfied: xlrd in /Users/dpham/Desktop/env/lib/python2.7/site-packages (1.2.0)\n"
=======
      "Requirement already satisfied: pandas in /opt/conda/lib/python3.6/site-packages (0.23.4)\n",
      "Requirement already satisfied: pytz>=2011k in /opt/conda/lib/python3.6/site-packages (from pandas) (2018.5)\n",
      "Requirement already satisfied: python-dateutil>=2.5.0 in /opt/conda/lib/python3.6/site-packages (from pandas) (2.7.3)\n",
      "Requirement already satisfied: numpy>=1.9.0 in /opt/conda/lib/python3.6/site-packages (from pandas) (1.14.3)\n",
      "Requirement already satisfied: six>=1.5 in /opt/conda/lib/python3.6/site-packages (from python-dateutil>=2.5.0->pandas) (1.11.0)\n",
      "Collecting xlrd\n",
      "  Using cached https://files.pythonhosted.org/packages/07/e6/e95c4eec6221bfd8528bcc4ea252a850bffcc4be88ebc367e23a1a84b0bb/xlrd-1.1.0-py2.py3-none-any.whl\n",
      "Installing collected packages: xlrd\n",
      "Successfully installed xlrd-1.1.0\n"
>>>>>>> cb06af763461badf68a6cd963bfa8030dfae81de
     ]
    }
   ],
   "source": [
    "!pip install pandas\n",
    "!pip install xlrd"
   ]
  },
  {
   "cell_type": "code",
   "execution_count": 2,
   "metadata": {},
   "outputs": [],
   "source": [
    "import pandas\n",
    "file_name = './cities.xlsx'\n",
    "travel_df = pandas.read_excel(file_name)\n",
    "cities = travel_df.to_dict('records')"
   ]
  },
  {
   "cell_type": "markdown",
   "metadata": {},
   "source": [
    "> Press shift + enter to run the code above."
   ]
  },
  {
   "cell_type": "code",
   "execution_count": 3,
   "metadata": {},
   "outputs": [
    {
     "data": {
      "text/plain": [
<<<<<<< HEAD
       "[{u'Area': 4758,\n",
       "  u'City': u'Buenos Aires',\n",
       "  u'Country': u'Argentina',\n",
       "  u'Population': 2891000},\n",
       " {u'Area': 2731571,\n",
       "  u'City': u'Toronto',\n",
       "  u'Country': u'Canada',\n",
       "  u'Population': 2800000},\n",
       " {u'Area': 3194,\n",
       "  u'City': u'Pyeongchang',\n",
       "  u'Country': u'South Korea',\n",
       "  u'Population': 2581000},\n",
       " {u'Area': 200,\n",
       "  u'City': u'Marakesh',\n",
       "  u'Country': u'Morocco',\n",
       "  u'Population': 928850},\n",
       " {u'Area': 491,\n",
       "  u'City': u'Albuquerque',\n",
       "  u'Country': u'New Mexico',\n",
       "  u'Population': 559277},\n",
       " {u'Area': 3750,\n",
       "  u'City': u'Los Cabos',\n",
       "  u'Country': u'Mexico',\n",
       "  u'Population': 287651},\n",
       " {u'Area': 68,\n",
       "  u'City': u'Greenville',\n",
       "  u'Country': u'USA',\n",
       "  u'Population': 84554},\n",
       " {u'Area': 8300,\n",
       "  u'City': u'Archipelago Sea',\n",
       "  u'Country': u'Finland',\n",
       "  u'Population': 60000},\n",
       " {u'Area': 33,\n",
       "  u'City': u'Walla Walla Valley',\n",
       "  u'Country': u'USA',\n",
       "  u'Population': 32237},\n",
       " {u'Area': 27,\n",
       "  u'City': u'Salina Island',\n",
       "  u'Country': u'Italy',\n",
       "  u'Population': 4000},\n",
       " {u'Area': 59, u'City': u'Solta', u'Country': u'Croatia', u'Population': 1700},\n",
       " {u'Area': 672,\n",
       "  u'City': u'Iguazu Falls',\n",
       "  u'Country': u'Argentina',\n",
       "  u'Population': 0}]"
=======
       "[{'City': 'Buenos Aires',\n",
       "  'Country': 'Argentina',\n",
       "  'Population': 2891000,\n",
       "  'Area': 4758},\n",
       " {'City': 'Toronto',\n",
       "  'Country': 'Canada',\n",
       "  'Population': 2800000,\n",
       "  'Area': 2731571},\n",
       " {'City': 'Pyeongchang',\n",
       "  'Country': 'South Korea',\n",
       "  'Population': 2581000,\n",
       "  'Area': 3194},\n",
       " {'City': 'Marakesh', 'Country': 'Morocco', 'Population': 928850, 'Area': 200},\n",
       " {'City': 'Albuquerque',\n",
       "  'Country': 'New Mexico',\n",
       "  'Population': 559277,\n",
       "  'Area': 491},\n",
       " {'City': 'Los Cabos',\n",
       "  'Country': 'Mexico',\n",
       "  'Population': 287651,\n",
       "  'Area': 3750},\n",
       " {'City': 'Greenville', 'Country': 'USA', 'Population': 84554, 'Area': 68},\n",
       " {'City': 'Archipelago Sea',\n",
       "  'Country': 'Finland',\n",
       "  'Population': 60000,\n",
       "  'Area': 8300},\n",
       " {'City': 'Walla Walla Valley',\n",
       "  'Country': 'USA',\n",
       "  'Population': 32237,\n",
       "  'Area': 33},\n",
       " {'City': 'Salina Island', 'Country': 'Italy', 'Population': 4000, 'Area': 27},\n",
       " {'City': 'Solta', 'Country': 'Croatia', 'Population': 1700, 'Area': 59},\n",
       " {'City': 'Iguazu Falls',\n",
       "  'Country': 'Argentina',\n",
       "  'Population': 0,\n",
       "  'Area': 672}]"
>>>>>>> cb06af763461badf68a6cd963bfa8030dfae81de
      ]
     },
     "execution_count": 3,
     "metadata": {},
     "output_type": "execute_result"
    }
   ],
   "source": [
    "cities"
   ]
  },
  {
   "cell_type": "markdown",
   "metadata": {},
   "source": [
    "### Plotting our first graph"
   ]
  },
  {
   "cell_type": "markdown",
   "metadata": {},
   "source": [
    "As we can see, in our list of cities, each city has a population number.  Our first task will be to display the populations of our first three cities in a bar chart."
   ]
  },
  {
   "cell_type": "markdown",
   "metadata": {},
   "source": [
    "First we load the plotly library into our notebook, and we initialize this offline mode."
   ]
  },
  {
   "cell_type": "code",
<<<<<<< HEAD
   "execution_count": 10,
=======
   "execution_count": 4,
>>>>>>> cb06af763461badf68a6cd963bfa8030dfae81de
   "metadata": {},
   "outputs": [
    {
     "data": {
      "text/html": [
       "<script type=\"text/javascript\">window.PlotlyConfig = {MathJaxConfig: 'local'};</script><script type=\"text/javascript\">if (window.MathJax) {MathJax.Hub.Config({SVG: {font: \"STIX-Web\"}});}</script><script>requirejs.config({paths: { 'plotly': ['https://cdn.plot.ly/plotly-latest.min']},});if(!window._Plotly) {require(['plotly'],function(plotly) {window._Plotly=plotly;});}</script>"
      ],
      "text/vnd.plotly.v1+html": [
       "<script type=\"text/javascript\">window.PlotlyConfig = {MathJaxConfig: 'local'};</script><script type=\"text/javascript\">if (window.MathJax) {MathJax.Hub.Config({SVG: {font: \"STIX-Web\"}});}</script><script>requirejs.config({paths: { 'plotly': ['https://cdn.plot.ly/plotly-latest.min']},});if(!window._Plotly) {require(['plotly'],function(plotly) {window._Plotly=plotly;});}</script>"
      ]
     },
     "metadata": {},
     "output_type": "display_data"
    }
   ],
   "source": [
    "import plotly\n",
    "from plotly.offline import download_plotlyjs, init_notebook_mode, plot, iplot\n",
    "plotly.offline.init_notebook_mode(connected=True)\n",
    "# use offline mode to avoid initial registration"
   ]
  },
  {
   "cell_type": "markdown",
   "metadata": {},
   "source": [
    "Now the next step is to build a trace.  As we know our trace is a dictionary with a key of `x` and a key of `y`.  We have set up a trace to look like the following: `trace_first_three = {'x': x_values, 'y': y_values}`.  \n",
    "\n",
    "First define `x_values` so that it is a list of names of the first three cities.  Use what we learned about accessing information from lists and dictionaries to assign `x_values` equal to the first three cities."
   ]
  },
  {
   "cell_type": "code",
   "execution_count": 5,
   "metadata": {},
   "outputs": [],
   "source": [
    "x_values = [cities[0]['City'], cities[1]['City'], cities[2]['City']]"
   ]
  },
  {
   "cell_type": "markdown",
   "metadata": {},
   "source": [
    "Now use list and dictionary accessors to set `y_values` equal to the first three populations."
   ]
  },
  {
   "cell_type": "code",
   "execution_count": 6,
   "metadata": {},
   "outputs": [],
   "source": [
    "y_values = [cities[0]['Population'], cities[1]['Population'], cities[2]['Population']]"
   ]
  },
  {
   "cell_type": "markdown",
   "metadata": {},
   "source": [
    "Now let's plot our data."
   ]
  },
  {
   "cell_type": "code",
<<<<<<< HEAD
   "execution_count": 11,
=======
   "execution_count": 7,
>>>>>>> cb06af763461badf68a6cd963bfa8030dfae81de
   "metadata": {},
   "outputs": [
    {
     "data": {
      "application/vnd.plotly.v1+json": {
<<<<<<< HEAD
       "config": {
        "linkText": "Export to plot.ly",
        "plotlyServerURL": "https://plot.ly",
        "showLink": false
       },
       "data": [
        {
         "type": "scatter",
         "uid": "dcf8ddc3-aa66-493d-a776-bc6e72336b94",
=======
       "data": [
        {
         "type": "scatter",
         "uid": "f7951d08-bf9e-11e8-839d-0242ac110003",
>>>>>>> cb06af763461badf68a6cd963bfa8030dfae81de
         "x": [
          "Buenos Aires",
          "Toronto",
          "Pyeongchang"
         ],
         "y": [
          2891000,
          2800000,
          2581000
         ]
        }
       ],
       "layout": {}
      },
      "text/html": [
<<<<<<< HEAD
       "<div id=\"b39973fb-104a-4089-aa8c-0125e6bfe500\" style=\"height: 525px; width: 100%;\" class=\"plotly-graph-div\"></div><script type=\"text/javascript\">require([\"plotly\"], function(Plotly) { window.PLOTLYENV=window.PLOTLYENV || {};window.PLOTLYENV.BASE_URL=\"https://plot.ly\";Plotly.newPlot(\"b39973fb-104a-4089-aa8c-0125e6bfe500\", [{\"y\": [2891000, 2800000, 2581000], \"x\": [\"Buenos Aires\", \"Toronto\", \"Pyeongchang\"], \"type\": \"scatter\", \"uid\": \"0edcf6af-1f1e-4f75-809c-3428d654d8c6\"}], {}, {\"plotlyServerURL\": \"https://plot.ly\", \"linkText\": \"Export to plot.ly\", \"showLink\": false})});</script><script type=\"text/javascript\">window.addEventListener(\"resize\", function(){window._Plotly.Plots.resize(document.getElementById(\"b39973fb-104a-4089-aa8c-0125e6bfe500\"));});</script>"
      ],
      "text/vnd.plotly.v1+html": [
       "<div id=\"b39973fb-104a-4089-aa8c-0125e6bfe500\" style=\"height: 525px; width: 100%;\" class=\"plotly-graph-div\"></div><script type=\"text/javascript\">require([\"plotly\"], function(Plotly) { window.PLOTLYENV=window.PLOTLYENV || {};window.PLOTLYENV.BASE_URL=\"https://plot.ly\";Plotly.newPlot(\"b39973fb-104a-4089-aa8c-0125e6bfe500\", [{\"y\": [2891000, 2800000, 2581000], \"x\": [\"Buenos Aires\", \"Toronto\", \"Pyeongchang\"], \"type\": \"scatter\", \"uid\": \"0edcf6af-1f1e-4f75-809c-3428d654d8c6\"}], {}, {\"plotlyServerURL\": \"https://plot.ly\", \"linkText\": \"Export to plot.ly\", \"showLink\": false})});</script><script type=\"text/javascript\">window.addEventListener(\"resize\", function(){window._Plotly.Plots.resize(document.getElementById(\"b39973fb-104a-4089-aa8c-0125e6bfe500\"));});</script>"
=======
       "<div id=\"81d64a1b-6aca-4011-a56b-fbadd8c701e0\" style=\"height: 525px; width: 100%;\" class=\"plotly-graph-div\"></div><script type=\"text/javascript\">require([\"plotly\"], function(Plotly) { window.PLOTLYENV=window.PLOTLYENV || {};window.PLOTLYENV.BASE_URL=\"https://plot.ly\";Plotly.newPlot(\"81d64a1b-6aca-4011-a56b-fbadd8c701e0\", [{\"x\": [\"Buenos Aires\", \"Toronto\", \"Pyeongchang\"], \"y\": [2891000, 2800000, 2581000], \"type\": \"scatter\", \"uid\": \"f7cce300-bf9e-11e8-839d-0242ac110003\"}], {}, {\"showLink\": true, \"linkText\": \"Export to plot.ly\"})});</script>"
      ],
      "text/vnd.plotly.v1+html": [
       "<div id=\"81d64a1b-6aca-4011-a56b-fbadd8c701e0\" style=\"height: 525px; width: 100%;\" class=\"plotly-graph-div\"></div><script type=\"text/javascript\">require([\"plotly\"], function(Plotly) { window.PLOTLYENV=window.PLOTLYENV || {};window.PLOTLYENV.BASE_URL=\"https://plot.ly\";Plotly.newPlot(\"81d64a1b-6aca-4011-a56b-fbadd8c701e0\", [{\"x\": [\"Buenos Aires\", \"Toronto\", \"Pyeongchang\"], \"y\": [2891000, 2800000, 2581000], \"type\": \"scatter\", \"uid\": \"f7cce300-bf9e-11e8-839d-0242ac110003\"}], {}, {\"showLink\": true, \"linkText\": \"Export to plot.ly\"})});</script>"
>>>>>>> cb06af763461badf68a6cd963bfa8030dfae81de
      ]
     },
     "metadata": {},
     "output_type": "display_data"
    }
   ],
   "source": [
    "trace_first_three_pops = {'x': x_values, 'y': y_values}\n",
    "\n",
    "\n",
    "plotly.offline.iplot([trace_first_three_pops])"
   ]
  },
  {
   "cell_type": "markdown",
   "metadata": {},
   "source": [
    "### Modifying our first trace"
   ]
  },
  {
   "cell_type": "markdown",
   "metadata": {},
   "source": [
    "Note that by default, plotly sets the type of trace as a line trace.  In the next example, let's make our trace a bar trace by setting the `'type'` key equal to `'bar'`.  We can continue to use our lists of `x_values` and `y_values` that we defined above and used in our previous trace. To make our new trace more informative, we can assign labels to our data when we plot it. Normally, when we see a bar graph, there are labels along the x-axis for specific values. Understanding that we are plotting data about different cities, our labels would sensibly be a list of corresponding city names. \n",
    "\n",
    "We can designate these corresponding city names in our trace dictionary by assigning a list of strings to the `text` key:\n",
    "\n",
    "```python\n",
    "example_trace = {'type': 'bar', 'x': x_values, 'y': y_values, 'text': [\"label_1\", \"label_2\", \"label_3\"]}\n",
    "```\n",
    "\n",
    "Assign the variable `text_values` equal to a list of names for the first three cities. Then we pass this information to our trace dictionary and assign it as the value for its `text` key."
   ]
  },
  {
   "cell_type": "code",
<<<<<<< HEAD
   "execution_count": 15,
   "metadata": {},
   "outputs": [
    {
     "data": {
      "text/plain": [
       "[u'Buenos Aires', u'Toronto', u'Pyeongchang']"
      ]
     },
     "execution_count": 15,
     "metadata": {},
     "output_type": "execute_result"
    }
   ],
   "source": [
    "x_values"
   ]
  },
  {
   "cell_type": "code",
   "execution_count": 18,
=======
   "execution_count": 8,
>>>>>>> cb06af763461badf68a6cd963bfa8030dfae81de
   "metadata": {},
   "outputs": [],
   "source": [
    "text_values = ['Buenos Aires', 'Toronto', 'Pyeongchang']\n",
<<<<<<< HEAD
    "bar_trace_first_three_pops = {'type': 'scatter', 'text': text_values}"
=======
    "bar_trace_first_three_pops = {'type': 'bar', 'x': x_values, 'y': y_values, 'text': text_values}"
>>>>>>> cb06af763461badf68a6cd963bfa8030dfae81de
   ]
  },
  {
   "cell_type": "code",
<<<<<<< HEAD
   "execution_count": 19,
=======
   "execution_count": 46,
>>>>>>> cb06af763461badf68a6cd963bfa8030dfae81de
   "metadata": {},
   "outputs": [
    {
     "ename": "KeyError",
     "evalue": "'bar'",
     "output_type": "error",
     "traceback": [
      "\u001b[0;31m\u001b[0m",
      "\u001b[0;31mKeyError\u001b[0mTraceback (most recent call last)",
      "\u001b[0;32m<ipython-input-46-58d816a431d0>\u001b[0m in \u001b[0;36m<module>\u001b[0;34m()\u001b[0m\n\u001b[0;32m----> 1\u001b[0;31m \u001b[0mbar_trace_first_three_pops\u001b[0m\u001b[0;34m[\u001b[0m\u001b[0;34m'bar'\u001b[0m\u001b[0;34m]\u001b[0m \u001b[0;31m# 'bar'\u001b[0m\u001b[0;34m\u001b[0m\u001b[0m\n\u001b[0m",
      "\u001b[0;31mKeyError\u001b[0m: 'bar'"
     ]
    }
   ],
   "source": [
<<<<<<< HEAD
    "bar_trace_first_three_pops['type']='bar' # 'bar'"
=======
    "bar_trace_first_three_pops['bar'] # 'bar'"
>>>>>>> cb06af763461badf68a6cd963bfa8030dfae81de
   ]
  },
  {
   "cell_type": "code",
<<<<<<< HEAD
   "execution_count": 20,
=======
   "execution_count": 9,
>>>>>>> cb06af763461badf68a6cd963bfa8030dfae81de
   "metadata": {},
   "outputs": [
    {
     "data": {
      "application/vnd.plotly.v1+json": {
<<<<<<< HEAD
       "config": {
        "linkText": "Export to plot.ly",
        "plotlyServerURL": "https://plot.ly",
        "showLink": false
       },
=======
>>>>>>> cb06af763461badf68a6cd963bfa8030dfae81de
       "data": [
        {
         "text": [
          "Buenos Aires",
          "Toronto",
          "Pyeongchang"
         ],
         "type": "bar",
<<<<<<< HEAD
         "uid": "839b0ce5-5297-42b8-93eb-b6ec5c52180c"
=======
         "uid": "ffd5e452-bf9e-11e8-839d-0242ac110003",
         "x": [
          "Buenos Aires",
          "Toronto",
          "Pyeongchang"
         ],
         "y": [
          2891000,
          2800000,
          2581000
         ]
>>>>>>> cb06af763461badf68a6cd963bfa8030dfae81de
        }
       ],
       "layout": {}
      },
      "text/html": [
<<<<<<< HEAD
       "<div id=\"8d1ba997-063d-4cce-b62f-940e0c5b8105\" style=\"height: 525px; width: 100%;\" class=\"plotly-graph-div\"></div><script type=\"text/javascript\">require([\"plotly\"], function(Plotly) { window.PLOTLYENV=window.PLOTLYENV || {};window.PLOTLYENV.BASE_URL=\"https://plot.ly\";Plotly.newPlot(\"8d1ba997-063d-4cce-b62f-940e0c5b8105\", [{\"text\": [\"Buenos Aires\", \"Toronto\", \"Pyeongchang\"], \"type\": \"bar\", \"uid\": \"e3c75bcd-1c44-4414-8de1-bed3b13fb208\"}], {}, {\"plotlyServerURL\": \"https://plot.ly\", \"linkText\": \"Export to plot.ly\", \"showLink\": false})});</script><script type=\"text/javascript\">window.addEventListener(\"resize\", function(){window._Plotly.Plots.resize(document.getElementById(\"8d1ba997-063d-4cce-b62f-940e0c5b8105\"));});</script>"
      ],
      "text/vnd.plotly.v1+html": [
       "<div id=\"8d1ba997-063d-4cce-b62f-940e0c5b8105\" style=\"height: 525px; width: 100%;\" class=\"plotly-graph-div\"></div><script type=\"text/javascript\">require([\"plotly\"], function(Plotly) { window.PLOTLYENV=window.PLOTLYENV || {};window.PLOTLYENV.BASE_URL=\"https://plot.ly\";Plotly.newPlot(\"8d1ba997-063d-4cce-b62f-940e0c5b8105\", [{\"text\": [\"Buenos Aires\", \"Toronto\", \"Pyeongchang\"], \"type\": \"bar\", \"uid\": \"e3c75bcd-1c44-4414-8de1-bed3b13fb208\"}], {}, {\"plotlyServerURL\": \"https://plot.ly\", \"linkText\": \"Export to plot.ly\", \"showLink\": false})});</script><script type=\"text/javascript\">window.addEventListener(\"resize\", function(){window._Plotly.Plots.resize(document.getElementById(\"8d1ba997-063d-4cce-b62f-940e0c5b8105\"));});</script>"
=======
       "<div id=\"b3d36d69-45be-4809-8c1f-fa2793efec91\" style=\"height: 525px; width: 100%;\" class=\"plotly-graph-div\"></div><script type=\"text/javascript\">require([\"plotly\"], function(Plotly) { window.PLOTLYENV=window.PLOTLYENV || {};window.PLOTLYENV.BASE_URL=\"https://plot.ly\";Plotly.newPlot(\"b3d36d69-45be-4809-8c1f-fa2793efec91\", [{\"text\": [\"Buenos Aires\", \"Toronto\", \"Pyeongchang\"], \"x\": [\"Buenos Aires\", \"Toronto\", \"Pyeongchang\"], \"y\": [2891000, 2800000, 2581000], \"type\": \"bar\", \"uid\": \"ffda4b0a-bf9e-11e8-839d-0242ac110003\"}], {}, {\"showLink\": true, \"linkText\": \"Export to plot.ly\"})});</script>"
      ],
      "text/vnd.plotly.v1+html": [
       "<div id=\"b3d36d69-45be-4809-8c1f-fa2793efec91\" style=\"height: 525px; width: 100%;\" class=\"plotly-graph-div\"></div><script type=\"text/javascript\">require([\"plotly\"], function(Plotly) { window.PLOTLYENV=window.PLOTLYENV || {};window.PLOTLYENV.BASE_URL=\"https://plot.ly\";Plotly.newPlot(\"b3d36d69-45be-4809-8c1f-fa2793efec91\", [{\"text\": [\"Buenos Aires\", \"Toronto\", \"Pyeongchang\"], \"x\": [\"Buenos Aires\", \"Toronto\", \"Pyeongchang\"], \"y\": [2891000, 2800000, 2581000], \"type\": \"bar\", \"uid\": \"ffda4b0a-bf9e-11e8-839d-0242ac110003\"}], {}, {\"showLink\": true, \"linkText\": \"Export to plot.ly\"})});</script>"
>>>>>>> cb06af763461badf68a6cd963bfa8030dfae81de
      ]
     },
     "metadata": {},
     "output_type": "display_data"
    }
   ],
   "source": [
    "plotly.offline.iplot([bar_trace_first_three_pops])"
   ]
  },
  {
   "cell_type": "markdown",
   "metadata": {},
   "source": [
    "### Adding a second trace to plot side by side"
   ]
  },
  {
   "cell_type": "markdown",
   "metadata": {},
   "source": [
    "Ok, now let's plot two different traces side by side.  First, create another trace called `bar_trace_first_three_areas` that is like our `bar_trace_first_three_pops` except the values are a list of areas.  We will display this side by side along our `bar_trace_first_three_pops` in the plot below."
   ]
  },
  {
   "cell_type": "code",
<<<<<<< HEAD
   "execution_count": 25,
   "metadata": {},
   "outputs": [],
   "source": [
    "bar_trace_first_three_areas = {'type': 'scatter', 'x': [cities[0]['City'], cities[1]['City'], cities[2]['City']], 'y': [cities[0]['Area'], cities[1]['Area'], cities[2]['Area']], 'text': []}\n",
    "bar_trace_first_three_pops = {'type': 'scatter', 'x': [cities[0]['City'], cities[1]['City'], cities[2]['City']], 'y': [cities[0]['Population'], cities[1]['Population'], cities[2]['Population']], 'text': ['a','b','c']}"
=======
   "execution_count": 24,
   "metadata": {},
   "outputs": [],
   "source": [
    "x_values = [cities[0]['City'], cities[1]['City'], cities[2]['City']]\n",
    "y_values2 = [cities[0]['Area'], cities[1]['Area'], cities[2]['Area']]\n",
    "text_values = x_values\n"
>>>>>>> cb06af763461badf68a6cd963bfa8030dfae81de
   ]
  },
  {
   "cell_type": "code",
<<<<<<< HEAD
   "execution_count": 26,
=======
   "execution_count": 28,
>>>>>>> cb06af763461badf68a6cd963bfa8030dfae81de
   "metadata": {},
   "outputs": [
    {
     "data": {
      "application/vnd.plotly.v1+json": {
<<<<<<< HEAD
       "config": {
        "linkText": "Export to plot.ly",
        "plotlyServerURL": "https://plot.ly",
        "showLink": false
       },
       "data": [
        {
         "text": [
          "a",
          "b",
          "c"
         ],
         "type": "scatter",
         "uid": "07904976-d559-4d0d-9b44-a53a1d4e8d74",
         "x": [
          "Buenos Aires",
          "Toronto",
          "Pyeongchang"
         ],
         "y": [
          2891000,
          2800000,
          2581000
         ]
        },
        {
         "text": [],
         "type": "scatter",
         "uid": "07a0bb7c-4473-41df-afcc-67f1e135e96d",
         "x": [
          "Buenos Aires",
          "Toronto",
          "Pyeongchang"
         ],
         "y": [
          4758,
          2731571,
          3194
=======
       "data": [
        {
         "text": [
          "['Buenos Aires', 'Toronto', 'Pyeongchang']"
         ],
         "type": "scatter",
         "uid": "b8704516-bf9f-11e8-839d-0242ac110003",
         "x": [
          [
           "Buenos Aires",
           "Toronto",
           "Pyeongchang"
          ]
         ],
         "y": [
          [
           4758,
           2731571,
           3194
          ]
>>>>>>> cb06af763461badf68a6cd963bfa8030dfae81de
         ]
        }
       ],
       "layout": {}
      },
      "text/html": [
<<<<<<< HEAD
       "<div id=\"1ebc8c5f-15fd-4ff5-941e-97420543e402\" style=\"height: 525px; width: 100%;\" class=\"plotly-graph-div\"></div><script type=\"text/javascript\">require([\"plotly\"], function(Plotly) { window.PLOTLYENV=window.PLOTLYENV || {};window.PLOTLYENV.BASE_URL=\"https://plot.ly\";Plotly.newPlot(\"1ebc8c5f-15fd-4ff5-941e-97420543e402\", [{\"y\": [2891000, 2800000, 2581000], \"text\": [\"a\", \"b\", \"c\"], \"type\": \"scatter\", \"uid\": \"7a71021c-7fa3-4b07-99b9-cff9d8641cca\", \"x\": [\"Buenos Aires\", \"Toronto\", \"Pyeongchang\"]}, {\"y\": [4758, 2731571, 3194], \"text\": [], \"type\": \"scatter\", \"uid\": \"c53e23e3-c477-4605-878b-fabd30db8ccb\", \"x\": [\"Buenos Aires\", \"Toronto\", \"Pyeongchang\"]}], {}, {\"plotlyServerURL\": \"https://plot.ly\", \"linkText\": \"Export to plot.ly\", \"showLink\": false})});</script><script type=\"text/javascript\">window.addEventListener(\"resize\", function(){window._Plotly.Plots.resize(document.getElementById(\"1ebc8c5f-15fd-4ff5-941e-97420543e402\"));});</script>"
      ],
      "text/vnd.plotly.v1+html": [
       "<div id=\"1ebc8c5f-15fd-4ff5-941e-97420543e402\" style=\"height: 525px; width: 100%;\" class=\"plotly-graph-div\"></div><script type=\"text/javascript\">require([\"plotly\"], function(Plotly) { window.PLOTLYENV=window.PLOTLYENV || {};window.PLOTLYENV.BASE_URL=\"https://plot.ly\";Plotly.newPlot(\"1ebc8c5f-15fd-4ff5-941e-97420543e402\", [{\"y\": [2891000, 2800000, 2581000], \"text\": [\"a\", \"b\", \"c\"], \"type\": \"scatter\", \"uid\": \"7a71021c-7fa3-4b07-99b9-cff9d8641cca\", \"x\": [\"Buenos Aires\", \"Toronto\", \"Pyeongchang\"]}, {\"y\": [4758, 2731571, 3194], \"text\": [], \"type\": \"scatter\", \"uid\": \"c53e23e3-c477-4605-878b-fabd30db8ccb\", \"x\": [\"Buenos Aires\", \"Toronto\", \"Pyeongchang\"]}], {}, {\"plotlyServerURL\": \"https://plot.ly\", \"linkText\": \"Export to plot.ly\", \"showLink\": false})});</script><script type=\"text/javascript\">window.addEventListener(\"resize\", function(){window._Plotly.Plots.resize(document.getElementById(\"1ebc8c5f-15fd-4ff5-941e-97420543e402\"));});</script>"
=======
       "<div id=\"b1b3130f-404a-4fd7-b2d5-8ae69bde3229\" style=\"height: 525px; width: 100%;\" class=\"plotly-graph-div\"></div><script type=\"text/javascript\">require([\"plotly\"], function(Plotly) { window.PLOTLYENV=window.PLOTLYENV || {};window.PLOTLYENV.BASE_URL=\"https://plot.ly\";Plotly.newPlot(\"b1b3130f-404a-4fd7-b2d5-8ae69bde3229\", [{\"text\": [\"['Buenos Aires', 'Toronto', 'Pyeongchang']\"], \"x\": [[\"Buenos Aires\", \"Toronto\", \"Pyeongchang\"]], \"y\": [[4758, 2731571, 3194]], \"type\": \"scatter\", \"uid\": \"b87eb9de-bf9f-11e8-839d-0242ac110003\"}], {}, {\"showLink\": true, \"linkText\": \"Export to plot.ly\"})});</script>"
      ],
      "text/vnd.plotly.v1+html": [
       "<div id=\"b1b3130f-404a-4fd7-b2d5-8ae69bde3229\" style=\"height: 525px; width: 100%;\" class=\"plotly-graph-div\"></div><script type=\"text/javascript\">require([\"plotly\"], function(Plotly) { window.PLOTLYENV=window.PLOTLYENV || {};window.PLOTLYENV.BASE_URL=\"https://plot.ly\";Plotly.newPlot(\"b1b3130f-404a-4fd7-b2d5-8ae69bde3229\", [{\"text\": [\"['Buenos Aires', 'Toronto', 'Pyeongchang']\"], \"x\": [[\"Buenos Aires\", \"Toronto\", \"Pyeongchang\"]], \"y\": [[4758, 2731571, 3194]], \"type\": \"scatter\", \"uid\": \"b87eb9de-bf9f-11e8-839d-0242ac110003\"}], {}, {\"showLink\": true, \"linkText\": \"Export to plot.ly\"})});</script>"
>>>>>>> cb06af763461badf68a6cd963bfa8030dfae81de
      ]
     },
     "metadata": {},
     "output_type": "display_data"
    }
   ],
   "source": [
    "#bar_trace_first_three_areas['bar']\n",
    "bar_trace_first_three_areas = {'type': 'bar', 'x': [x_values], 'y': [y_values2], 'text': [text_values]}\n",
    "#bar_trace_first_three_pops = {'type': 'bar', 'x': [x_values], 'y': [y_values], 'text': [text_values]}\n",
    "plotly.offline.iplot([bar_trace_first_three_areas])\n",
    "#plotly.offline.iplot([bar_trace_first_three_pops])"
   ]
  },
  {
   "cell_type": "markdown",
   "metadata": {},
   "source": [
    "### Summary"
   ]
  },
  {
   "cell_type": "markdown",
   "metadata": {},
   "source": [
    "In this section, we saw how we use data visualizations to better understand the data.  We do the following.  Import plotly:\n",
    "\n",
    "\n",
    "    import plotly\n",
    "\n",
    "    plotly.offline.init_notebook_mode(connected=True)\n",
    "\n",
    "Then we define a trace, which is a Python dictionary.\n",
    "\n",
    "    trace = {'x': [], 'y': [], 'text': [], 'type': 'bar'}\n",
    "    \n",
    "Finally, we display our trace with a call to the following method:\n",
    "\n",
    "    plotly.offline.iplot([trace])\n",
    "    \n",
    "Easy peasy, quick and easy!"
   ]
  }
 ],
 "metadata": {
  "kernelspec": {
   "display_name": "Python 2",
   "language": "python",
   "name": "python2"
  },
  "language_info": {
   "codemirror_mode": {
    "name": "ipython",
    "version": 2
   },
   "file_extension": ".py",
   "mimetype": "text/x-python",
   "name": "python",
   "nbconvert_exporter": "python",
   "pygments_lexer": "ipython2",
   "version": "2.7.10"
  }
 },
 "nbformat": 4,
 "nbformat_minor": 2
}
